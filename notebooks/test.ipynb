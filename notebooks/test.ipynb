{
 "cells": [
  {
   "cell_type": "code",
   "execution_count": null,
   "metadata": {
    "vscode": {
     "languageId": "plaintext"
    }
   },
   "outputs": [],
   "source": [
    "import torch\n",
    "from models.biobert import BioBERT\n",
    "from models.clinicalbert import ClinicalBERT\n",
    "from models.longformer import Longformer\n",
    "\n",
    "biobert = BioBERT()\n",
    "clinicalbert = ClinicalBERT()\n",
    "longformer = Longformer()\n",
    "\n",
    "text = \"Patient was prescribed amoxicillin for bacterial infection.\"\n",
    "\n",
    "print(\"BioBERT:\", biobert.get_embedding(text))\n",
    "print(\"ClinicalBERT:\", clinicalbert.get_embedding(text))\n",
    "print(\"Longformer:\", longformer.get_embedding(text))\n"
   ]
  }
 ],
 "metadata": {
  "language_info": {
   "name": "python"
  }
 },
 "nbformat": 4,
 "nbformat_minor": 2
}
